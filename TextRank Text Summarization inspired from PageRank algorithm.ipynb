{
 "cells": [
  {
   "cell_type": "code",
   "execution_count": 1,
   "id": "eaa0967f-0c3a-4f91-9989-eb99a7840974",
   "metadata": {},
   "outputs": [],
   "source": [
    "import pandas as pd\n",
    "import numpy as np\n",
    "import textwrap\n",
    "import nltk\n",
    "from nltk.corpus import stopwords\n",
    "from nltk import word_tokenize\n",
    "from nltk.stem import WordNetLemmatizer, PorterStemmer\n",
    "from sklearn.feature_extraction.text import TfidfVectorizer\n",
    "from sklearn.metrics.pairwise import cosine_similarity"
   ]
  },
  {
   "cell_type": "code",
   "execution_count": 2,
   "id": "52925525-da64-484b-99bb-387e42f7a1ed",
   "metadata": {},
   "outputs": [
    {
     "name": "stderr",
     "output_type": "stream",
     "text": [
      "[nltk_data] Downloading package punkt to\n",
      "[nltk_data]     C:\\Users\\saahi\\AppData\\Roaming\\nltk_data...\n",
      "[nltk_data]   Package punkt is already up-to-date!\n",
      "[nltk_data] Downloading package stopwords to\n",
      "[nltk_data]     C:\\Users\\saahi\\AppData\\Roaming\\nltk_data...\n",
      "[nltk_data]   Package stopwords is already up-to-date!\n"
     ]
    },
    {
     "data": {
      "text/plain": [
       "True"
      ]
     },
     "execution_count": 2,
     "metadata": {},
     "output_type": "execute_result"
    }
   ],
   "source": [
    "nltk.download('punkt')\n",
    "nltk.download('stopwords')"
   ]
  },
  {
   "cell_type": "code",
   "execution_count": 3,
   "id": "e7a3d3f2-0f02-49e0-ac83-aef556d55a22",
   "metadata": {},
   "outputs": [],
   "source": [
    "df = pd.read_csv(\"C://Users//saahi//bbc-text.csv/bbc-text.csv\")\n"
   ]
  },
  {
   "cell_type": "code",
   "execution_count": 4,
   "id": "a3233e3d-df19-497d-a8e3-fec04f838d44",
   "metadata": {},
   "outputs": [
    {
     "data": {
      "text/html": [
       "<div>\n",
       "<style scoped>\n",
       "    .dataframe tbody tr th:only-of-type {\n",
       "        vertical-align: middle;\n",
       "    }\n",
       "\n",
       "    .dataframe tbody tr th {\n",
       "        vertical-align: top;\n",
       "    }\n",
       "\n",
       "    .dataframe thead th {\n",
       "        text-align: right;\n",
       "    }\n",
       "</style>\n",
       "<table border=\"1\" class=\"dataframe\">\n",
       "  <thead>\n",
       "    <tr style=\"text-align: right;\">\n",
       "      <th></th>\n",
       "      <th>category</th>\n",
       "      <th>text</th>\n",
       "    </tr>\n",
       "  </thead>\n",
       "  <tbody>\n",
       "    <tr>\n",
       "      <th>0</th>\n",
       "      <td>tech</td>\n",
       "      <td>tv future in the hands of viewers with home th...</td>\n",
       "    </tr>\n",
       "    <tr>\n",
       "      <th>1</th>\n",
       "      <td>business</td>\n",
       "      <td>worldcom boss  left books alone  former worldc...</td>\n",
       "    </tr>\n",
       "    <tr>\n",
       "      <th>2</th>\n",
       "      <td>sport</td>\n",
       "      <td>tigers wary of farrell  gamble  leicester say ...</td>\n",
       "    </tr>\n",
       "    <tr>\n",
       "      <th>3</th>\n",
       "      <td>sport</td>\n",
       "      <td>yeading face newcastle in fa cup premiership s...</td>\n",
       "    </tr>\n",
       "    <tr>\n",
       "      <th>4</th>\n",
       "      <td>entertainment</td>\n",
       "      <td>ocean s twelve raids box office ocean s twelve...</td>\n",
       "    </tr>\n",
       "  </tbody>\n",
       "</table>\n",
       "</div>"
      ],
      "text/plain": [
       "        category                                               text\n",
       "0           tech  tv future in the hands of viewers with home th...\n",
       "1       business  worldcom boss  left books alone  former worldc...\n",
       "2          sport  tigers wary of farrell  gamble  leicester say ...\n",
       "3          sport  yeading face newcastle in fa cup premiership s...\n",
       "4  entertainment  ocean s twelve raids box office ocean s twelve..."
      ]
     },
     "execution_count": 4,
     "metadata": {},
     "output_type": "execute_result"
    }
   ],
   "source": [
    "df.head()"
   ]
  },
  {
   "cell_type": "code",
   "execution_count": 54,
   "id": "c8f25c25-3422-44f5-a75a-1920a6e3af2a",
   "metadata": {},
   "outputs": [],
   "source": [
    "def wrap(x):\n",
    "  return textwrap.fill(x, replace_whitespace=False, fix_sentence_endings=True)"
   ]
  },
  {
   "cell_type": "code",
   "execution_count": 55,
   "id": "df7e356e-de2e-488b-81de-b584e3fff9b6",
   "metadata": {},
   "outputs": [],
   "source": [
    "def summarize(text,factor = 0.15):\n",
    "    sents=nltk.sent_tokenize(text)\n",
    "    featurizer=TfidfVectorizer(\n",
    "    stop_words=stopwords.words('english'),\n",
    "    norm='l1')\n",
    "    X=featurizer.fit_transform(sents)\n",
    "    S = cosine_similarity(X)\n",
    "    S /=S.sum(axis=1,keepdims=True)\n",
    "    U=np.ones_like(S) / len(S)\n",
    "    S = (1 - factor) * S + factor * U\n",
    "    eigenvals, eigenvecs = np.linalg.eig(S.T)\n",
    "    scores = eigenvecs[:,0] / eigenvecs[:,0].sum()\n",
    "    sort_idx = np.argsort(-scores)\n",
    "    for i in sort_idx[:5]:\n",
    "        print(wrap(\"%.2f: %s\" % (scores[i], sents[i])))"
   ]
  },
  {
   "cell_type": "code",
   "execution_count": 56,
   "id": "94a34090-2bc6-4043-b5b8-4a5f025efece",
   "metadata": {},
   "outputs": [
    {
     "name": "stdout",
     "output_type": "stream",
     "text": [
      "0.05: as far as the timing of the prime minister s press conference is\n",
      "concerned  there are two options.\n",
      "0.05: and he again heaped praise on mr brown saying he was doing a\n",
      "great job  and would continue doing it - although he would not commit\n",
      "to any job for mr brown after the election.\n",
      "0.05: it was claimed he had been embarrassed by the fact that gordon\n",
      "brown appeared to have taken the initiative over the government s\n",
      "response to the disaster while mr blair was still on holiday in egypt.\n",
      "0.05: so why did he arrange his press conference at the last moment so\n",
      "it coincided with mr brown s long-arranged keynote speech on aid and\n",
      "debt  he was asked  by now mr blair had moved from irritation mode to\n",
      "his barely disguised fury setting.\n",
      "0.05: the prime minister denied all that as well  repeating his\n",
      "insistence that it was inconceivable the economy and the chancellor\n",
      "would not be at the centre of the election campaign.\n"
     ]
    }
   ],
   "source": [
    "doc=df['text'].sample(random_state=42).values[0].split(\"\\n\", 1)\n",
    "summarize(' '.join(doc), factor=0.15)"
   ]
  },
  {
   "cell_type": "code",
   "execution_count": null,
   "id": "96816700-09ea-4253-9845-f0e4a2d4820d",
   "metadata": {},
   "outputs": [],
   "source": []
  }
 ],
 "metadata": {
  "kernelspec": {
   "display_name": "Python 3 (ipykernel)",
   "language": "python",
   "name": "python3"
  },
  "language_info": {
   "codemirror_mode": {
    "name": "ipython",
    "version": 3
   },
   "file_extension": ".py",
   "mimetype": "text/x-python",
   "name": "python",
   "nbconvert_exporter": "python",
   "pygments_lexer": "ipython3",
   "version": "3.10.13"
  }
 },
 "nbformat": 4,
 "nbformat_minor": 5
}
